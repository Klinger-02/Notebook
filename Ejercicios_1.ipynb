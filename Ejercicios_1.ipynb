{
 "cells": [
  {
   "cell_type": "code",
   "execution_count": 1,
   "metadata": {},
   "outputs": [
    {
     "name": "stdout",
     "output_type": "stream",
     "text": [
      "[-2, -1, 0, 1, 2]\n",
      "f( -2 )= 18\n",
      "f( -1 )= 8\n",
      "f( 0 )= 2\n",
      "f( 1 )= 0\n",
      "f( 2 )= 2\n"
     ]
    },
    {
     "data": {
      "text/plain": [
       "'\\nprint(\"---------\")\\nprint_fuction([-2,-1,0,1,2],poly)\\n'"
      ]
     },
     "execution_count": 1,
     "metadata": {},
     "output_type": "execute_result"
    }
   ],
   "source": [
    "## Ejemplo 0:\n",
    "\n",
    "def print_fuction(args, fun):\n",
    "    print(args)\n",
    "    for x in args:\n",
    "        print('f(',x,')=', fun(x), sep=' ')\n",
    "\n",
    "def poly(x):\n",
    "    return ((2*(x**2))-(4*x)+2)\n",
    "\n",
    "print_fuction([x for x in range (-2,3)],poly)\n",
    "\"\"\"\n",
    "print(\"---------\")\n",
    "print_fuction([-2,-1,0,1,2],poly)\n",
    "\"\"\""
   ]
  },
  {
   "cell_type": "code",
   "execution_count": null,
   "metadata": {},
   "outputs": [
    {
     "name": "stdout",
     "output_type": "stream",
     "text": [
      "[-2, -1, 0, 1, 2]\n",
      "f( -2 )= 18\n",
      "f( -1 )= 8\n",
      "f( 0 )= 2\n",
      "f( 1 )= 0\n",
      "f( 2 )= 2\n"
     ]
    }
   ],
   "source": [
    "print_fuction([-2,-1,0,1,2],lambda x: ((2*(x**2))-(4*x)+2) )"
   ]
  },
  {
   "cell_type": "code",
   "execution_count": null,
   "metadata": {},
   "outputs": [
    {
     "name": "stdout",
     "output_type": "stream",
     "text": [
      "0 | 1 | 4 | 9 | 16 | 25 | 36 | 49 | 64 | 81 | 100 | 121 | 9 | 16 | "
     ]
    }
   ],
   "source": [
    "lista_x=[0,1,2,3,4,5,6,7,8,9,10,11,-3,-4]\n",
    "for x in map( ( lambda x:x*x ) ,lista_x):\n",
    "    print(x, end=\" | \")\n",
    "    \n"
   ]
  },
  {
   "cell_type": "code",
   "execution_count": null,
   "metadata": {},
   "outputs": [
    {
     "name": "stdout",
     "output_type": "stream",
     "text": [
      "[3, 6, 9]\n"
     ]
    }
   ],
   "source": [
    "lista_pares= list(filter( ( lambda x:x>0 and x%3==0 ) ,lista_x))\n",
    "print(lista_pares)"
   ]
  },
  {
   "cell_type": "markdown",
   "metadata": {},
   "source": [
    "4.\tOrdenar una lista de palabras por longitud:\n",
    "o\tDada una lista de palabras, ordénalas de menor a mayor longitud utilizando una función lambda y la función sorted."
   ]
  },
  {
   "cell_type": "code",
   "execution_count": null,
   "metadata": {},
   "outputs": [
    {
     "ename": "",
     "evalue": "",
     "output_type": "error",
     "traceback": [
      "\u001b[1;31mNo se pudo iniciar el Kernel. \n",
      "\u001b[1;31mNo se ha podido iniciar el Kernel \"Python 3.12.2\" debido a un tiempo de espera de la conexión. \n",
      "\u001b[1;31mConsulte Jupyter <a href='command:jupyter.viewOutput'>log</a> para obtener más detalles."
     ]
    }
   ],
   "source": [
    "##\n",
    "\n",
    "nombres = [\"julian\",\"pedro\", \"lupe\", \"andres\"]\n",
    "nombre2 = sorted(nombres,key=len, reverse=False)\n",
    "nombre2"
   ]
  },
  {
   "cell_type": "markdown",
   "metadata": {},
   "source": [
    "Escribe una función lambda que tome una temperatura en grados Celsius y la convierta a grados Fahrenheit utilizando la fórmula: ( F = (C*9/5) + 32 )."
   ]
  },
  {
   "cell_type": "code",
   "execution_count": null,
   "metadata": {},
   "outputs": [
    {
     "name": "stdout",
     "output_type": "stream",
     "text": [
      "[50.0, 89.6, 37.4, 77.0, 104.0]\n"
     ]
    }
   ],
   "source": [
    "list_temp_C=[10,-15, 32 ,3,25,40,-6]\n",
    "celsius_to_fahrenheit = lambda C: (C*9/5) + 32 \n",
    "##list_temp_C=list(filter(lambda x:x>0,list_temp_C))\n",
    "##list_result=list(map(celsius_to_fahrenheit,list_temp_C))\n",
    "list_result=list(map(celsius_to_fahrenheit,(list(filter(lambda x:x>0,list_temp_C)))))\n",
    "\n",
    "print(list_result)"
   ]
  },
  {
   "cell_type": "markdown",
   "metadata": {},
   "source": [
    "6.\tCalcular el promedio de una lista de números:\n",
    "Dada una lista de números, calcula su promedio utilizando una función lambda y la función sum.\n"
   ]
  },
  {
   "cell_type": "code",
   "execution_count": null,
   "metadata": {},
   "outputs": [
    {
     "name": "stdout",
     "output_type": "stream",
     "text": [
      "8.5\n"
     ]
    }
   ],
   "source": [
    "#Camilo Sanchez 7:41 PM\n",
    "lista_numero = [10, 25, 1, -2]\n",
    "promedio = lambda x: sum(x)/ len(x)\n",
    "print(promedio(lista_numero))"
   ]
  },
  {
   "cell_type": "markdown",
   "metadata": {},
   "source": [
    "7.\tCalcular el área de un triángulo:\n",
    "Escribe una función lambda que tome la base y la altura de un triángulo y calcule su área utilizando la fórmula: ( A= (Base * Altura)/2  )."
   ]
  },
  {
   "cell_type": "code",
   "execution_count": null,
   "metadata": {},
   "outputs": [
    {
     "name": "stdout",
     "output_type": "stream",
     "text": [
      "4.0\n"
     ]
    }
   ],
   "source": [
    "## Camilo Sanchez 8:12 PM\n",
    "base=2\n",
    "altura=4\n",
    "area = lambda x, y: (x * y)/2\n",
    "print(area(base,altura))"
   ]
  },
  {
   "cell_type": "code",
   "execution_count": null,
   "metadata": {},
   "outputs": [
    {
     "name": "stdout",
     "output_type": "stream",
     "text": [
      "7.5\n"
     ]
    }
   ],
   "source": [
    "##Ivan Zambrano 8:11 PM\n",
    "\n",
    "area =[3,5]\n",
    "areaTriangulo= lambda x: x[0]*x[1] /2\n",
    "print(areaTriangulo(area))"
   ]
  },
  {
   "cell_type": "code",
   "execution_count": null,
   "metadata": {},
   "outputs": [
    {
     "name": "stdout",
     "output_type": "stream",
     "text": [
      "[7.5, 1.0, 20.0]\n"
     ]
    }
   ],
   "source": [
    "parametrosBA =[(3,5),(2,1),(5,8)]\n",
    "areasTriangulos= list(map( lambda x: (x[0]*x[1])/2 , parametrosBA ))\n",
    "print(areasTriangulos)"
   ]
  },
  {
   "cell_type": "markdown",
   "metadata": {},
   "source": [
    "7.\tGenerar una lista de números primos:\n",
    "Escribe una función lambda que verifique si un número es primo y úsala para generar una lista de números primos hasta un límite dado.\n"
   ]
  },
  {
   "cell_type": "code",
   "execution_count": null,
   "metadata": {},
   "outputs": [
    {
     "name": "stdout",
     "output_type": "stream",
     "text": [
      "2 | 3 | 5 | 7 | 11 | 13 | 17 | 19 | 23 | 29 | 31 | 37 | 41 | 43 | 47 | "
     ]
    }
   ],
   "source": [
    "\"\"\"\n",
    "def f_es_primo (n):\n",
    "    for i in range(2,int(n**0.5)+1):\n",
    "        if n%i==0:\n",
    "            return False\n",
    "    return True\n",
    "\"\"\"\n",
    "l_es_primo = lambda n: all(n%i!=0 for i in range(2,int(n**0.5)+1)) and n>1\n",
    "\n",
    "for n in range(2,50): \n",
    "    if(l_es_primo(n)):\n",
    "        print(n, end=\" | \")   "
   ]
  },
  {
   "cell_type": "code",
   "execution_count": null,
   "metadata": {},
   "outputs": [
    {
     "name": "stdout",
     "output_type": "stream",
     "text": [
      "2 | 3 | 5 | 7 | 11 | 13 | 17 | 19 | 23 | 29 | 31 | 37 | 41 | 43 | 47 | "
     ]
    }
   ],
   "source": [
    "for n in range(2,50): \n",
    "    if((all(n%i!=0 for i in range(2,int(n**0.5)+1)) and n>1)):\n",
    "        print(n, end=\" | \")   "
   ]
  },
  {
   "cell_type": "markdown",
   "metadata": {},
   "source": [
    "9.\tContar las vocales en una cadena:\n",
    "o\tEscribe una función lambda que cuente el número de vocales (a, e, i, o, u) en una cadena de texto.\n"
   ]
  },
  {
   "cell_type": "code",
   "execution_count": null,
   "metadata": {},
   "outputs": [
    {
     "name": "stdout",
     "output_type": "stream",
     "text": [
      "9\n"
     ]
    }
   ],
   "source": [
    "txt = \"camilo andres sanchez diaz\"\n",
    "vocales = lambda n: sum(n.count(x) for x in \"aeiou\")\n",
    "print(vocales(txt))"
   ]
  },
  {
   "cell_type": "code",
   "execution_count": null,
   "metadata": {},
   "outputs": [
    {
     "name": "stdout",
     "output_type": "stream",
     "text": [
      "24\n"
     ]
    }
   ],
   "source": [
    "factorial = lambda numero : 1 if numero == 0 else numero*factorial(numero-1)\n",
    "print(factorial(4))"
   ]
  }
 ],
 "metadata": {
  "kernelspec": {
   "display_name": "Python 3 (ipykernel)",
   "language": "python",
   "name": "python3"
  },
  "language_info": {
   "codemirror_mode": {
    "name": "ipython",
    "version": 3
   },
   "file_extension": ".py",
   "mimetype": "text/x-python",
   "name": "python",
   "nbconvert_exporter": "python",
   "pygments_lexer": "ipython3",
   "version": "3.12.9"
  }
 },
 "nbformat": 4,
 "nbformat_minor": 4
}
