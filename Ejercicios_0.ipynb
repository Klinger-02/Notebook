{
 "cells": [
  {
   "cell_type": "markdown",
   "metadata": {},
   "source": [
    "# Taller Pandas 0\n",
    "Desarre los siguientes ejercicios.\n",
    "\n",
    "1. Escribir un programa que permita recolectar las ventas de un rango de años y muestre por pantalla una serie con los datos de las ventas indexada por los años"
   ]
  },
  {
   "cell_type": "code",
   "execution_count": 1,
   "metadata": {},
   "outputs": [
    {
     "ename": "ModuleNotFoundError",
     "evalue": "No module named 'pandas'",
     "output_type": "error",
     "traceback": [
      "\u001b[31m---------------------------------------------------------------------------\u001b[39m",
      "\u001b[31mModuleNotFoundError\u001b[39m                       Traceback (most recent call last)",
      "\u001b[36mCell\u001b[39m\u001b[36m \u001b[39m\u001b[32mIn[1]\u001b[39m\u001b[32m, line 2\u001b[39m\n\u001b[32m      1\u001b[39m \u001b[38;5;66;03m## Valentina paz 6:56 PM\u001b[39;00m\n\u001b[32m----> \u001b[39m\u001b[32m2\u001b[39m \u001b[38;5;28;01mimport\u001b[39;00m\u001b[38;5;250m \u001b[39m\u001b[34;01mpandas\u001b[39;00m\u001b[38;5;250m \u001b[39m\u001b[38;5;28;01mas\u001b[39;00m\u001b[38;5;250m \u001b[39m\u001b[34;01mpd\u001b[39;00m\n\u001b[32m      4\u001b[39m \u001b[38;5;28;01mdef\u001b[39;00m\u001b[38;5;250m \u001b[39m\u001b[34mrecolectar_ventas\u001b[39m(inicio, fin):\n\u001b[32m      5\u001b[39m     ventas = {}\n",
      "\u001b[31mModuleNotFoundError\u001b[39m: No module named 'pandas'"
     ]
    }
   ],
   "source": [
    "## Valentina paz 6:56 PM\n",
    "import pandas as pd\n",
    "\n",
    "def recolectar_ventas(inicio, fin):\n",
    "    ventas = {}\n",
    "    for año in range(inicio, fin+1):\n",
    "        ventas_año = float(input(f\"Ingrese las ventas para el año {año}: \"))\n",
    "        ventas[año] = ventas_año\n",
    "    return ventas\n",
    "def main():\n",
    "    try:\n",
    "        inicio = int(input(\"Ingrese el año de inicio del rango: \"))\n",
    "        fin = int(input(\"Ingrese el año de fin del rango: \"))\n",
    "    except TypeError:\n",
    "        print(\"datos ingresados malos... \")\n",
    "    except:\n",
    "        print(\"OTRO TIPO de ERROR... \")\n",
    "    else:\n",
    "        ventas = recolectar_ventas(inicio, fin)\n",
    "        print(\"Ventas antes de la serie: \", ventas)\n",
    "        \n",
    "        df_ventas = pd.Series(ventas)\n",
    "        \n",
    "        print(\"\\nDatos de ventas por año:\\n\\n\", df_ventas)\n",
    "    \n",
    "main()"
   ]
  },
  {
   "cell_type": "code",
   "execution_count": 2,
   "metadata": {},
   "outputs": [
    {
     "ename": "ModuleNotFoundError",
     "evalue": "No module named 'pandas'",
     "output_type": "error",
     "traceback": [
      "\u001b[31m---------------------------------------------------------------------------\u001b[39m",
      "\u001b[31mModuleNotFoundError\u001b[39m                       Traceback (most recent call last)",
      "\u001b[36mCell\u001b[39m\u001b[36m \u001b[39m\u001b[32mIn[2]\u001b[39m\u001b[32m, line 2\u001b[39m\n\u001b[32m      1\u001b[39m \u001b[38;5;66;03m## DANILO LOPEZ 7:22 PM\u001b[39;00m\n\u001b[32m----> \u001b[39m\u001b[32m2\u001b[39m \u001b[38;5;28;01mimport\u001b[39;00m\u001b[38;5;250m \u001b[39m\u001b[34;01mpandas\u001b[39;00m\u001b[38;5;250m \u001b[39m\u001b[38;5;28;01mas\u001b[39;00m\u001b[38;5;250m \u001b[39m\u001b[34;01mpd\u001b[39;00m\n\u001b[32m      3\u001b[39m \u001b[38;5;28;01mdef\u001b[39;00m\u001b[38;5;250m \u001b[39m\u001b[34mrecolectar_ventas\u001b[39m():\n\u001b[32m      4\u001b[39m     ventas = {}\n",
      "\u001b[31mModuleNotFoundError\u001b[39m: No module named 'pandas'"
     ]
    }
   ],
   "source": [
    "## DANILO LOPEZ 7:22 PM\n",
    "import pandas as pd\n",
    "def recolectar_ventas():\n",
    "    ventas = {}\n",
    "    anio_inicio = int(input(\"Ingrese el año de inicio: \"))\n",
    "    anio_fin = int(input(\"Ingrese el año de fin: \"))\n",
    "    for anio in range(anio_inicio, anio_fin + 1):\n",
    "        ventas[anio] = float(input(f\"Ingrese las ventas para el año {anio}: \"))\n",
    "    return ventas\n",
    "def mostrar_ventas(ventas):\n",
    "    df = pd.DataFrame(list(ventas.items()), columns=['Año', 'Ventas'])\n",
    "    df.set_index('Año', inplace=True)\n",
    "    print(df.info())\n",
    "    print(\"\\nVentas por año:\")\n",
    "    print(df)\n",
    "def main():\n",
    "    ventas = recolectar_ventas()\n",
    "    mostrar_ventas(ventas)\n",
    "\n",
    "\n",
    "main()"
   ]
  },
  {
   "cell_type": "code",
   "execution_count": 3,
   "metadata": {},
   "outputs": [
    {
     "ename": "ModuleNotFoundError",
     "evalue": "No module named 'pandas'",
     "output_type": "error",
     "traceback": [
      "\u001b[31m---------------------------------------------------------------------------\u001b[39m",
      "\u001b[31mModuleNotFoundError\u001b[39m                       Traceback (most recent call last)",
      "\u001b[36mCell\u001b[39m\u001b[36m \u001b[39m\u001b[32mIn[3]\u001b[39m\u001b[32m, line 1\u001b[39m\n\u001b[32m----> \u001b[39m\u001b[32m1\u001b[39m \u001b[38;5;28;01mimport\u001b[39;00m\u001b[38;5;250m \u001b[39m\u001b[34;01mpandas\u001b[39;00m\u001b[38;5;250m \u001b[39m\u001b[38;5;28;01mas\u001b[39;00m\u001b[38;5;250m \u001b[39m\u001b[34;01mpd\u001b[39;00m\n\u001b[32m      3\u001b[39m inicio = \u001b[38;5;28mint\u001b[39m(\u001b[38;5;28minput\u001b[39m(\u001b[33m'\u001b[39m\u001b[33mIntroduce el año inicial: \u001b[39m\u001b[33m'\u001b[39m))\n\u001b[32m      4\u001b[39m fin = \u001b[38;5;28mint\u001b[39m(\u001b[38;5;28minput\u001b[39m(\u001b[33m'\u001b[39m\u001b[33mIntroduce el año final: \u001b[39m\u001b[33m'\u001b[39m))\n",
      "\u001b[31mModuleNotFoundError\u001b[39m: No module named 'pandas'"
     ]
    }
   ],
   "source": [
    "import pandas as pd\n",
    "\n",
    "inicio = int(input('Introduce el año inicial: '))\n",
    "fin = int(input('Introduce el año final: '))\n",
    "ventas = {}\n",
    "if inicio <= fin:\n",
    "    for i in range(inicio, fin+1):\n",
    "        ventas[i] = float(input('Introduce las ventas del año ' + str(i) +': '))\n",
    "    ventas = pd.Series(ventas)\n",
    "else:\n",
    "    print(\"Datos de rango de años incorrecto\")\n",
    "\n",
    "print(\"La serie con las ventas \\n\\n\", ventas)"
   ]
  },
  {
   "cell_type": "markdown",
   "metadata": {},
   "source": [
    "2. Cree un DataFrame con el resultado del anterior ejercicio, e incluya una nueva columna indicando un descuento del 10% sobre el valor. Imprima el resultado.\n"
   ]
  },
  {
   "cell_type": "code",
   "execution_count": 4,
   "metadata": {},
   "outputs": [
    {
     "ename": "NameError",
     "evalue": "name 'pd' is not defined",
     "output_type": "error",
     "traceback": [
      "\u001b[31m---------------------------------------------------------------------------\u001b[39m",
      "\u001b[31mNameError\u001b[39m                                 Traceback (most recent call last)",
      "\u001b[36mCell\u001b[39m\u001b[36m \u001b[39m\u001b[32mIn[4]\u001b[39m\u001b[32m, line 1\u001b[39m\n\u001b[32m----> \u001b[39m\u001b[32m1\u001b[39m ventas_df = pd.DataFrame(ventas, columns=[\u001b[33m\"\u001b[39m\u001b[33mVentas\u001b[39m\u001b[33m\"\u001b[39m])\n\u001b[32m      3\u001b[39m ventas_df[\u001b[33m\"\u001b[39m\u001b[33mdescuentos\u001b[39m\u001b[33m\"\u001b[39m] = ventas_df.Ventas*\u001b[32m0.9\u001b[39m\n\u001b[32m      4\u001b[39m ventas_df[\u001b[33m\"\u001b[39m\u001b[33mahorro\u001b[39m\u001b[33m\"\u001b[39m] =  ventas_df.Ventas-ventas_df.descuentos\n",
      "\u001b[31mNameError\u001b[39m: name 'pd' is not defined"
     ]
    }
   ],
   "source": [
    "ventas_df = pd.DataFrame(ventas, columns=[\"Ventas\"])\n",
    "\n",
    "ventas_df[\"descuentos\"] = ventas_df.Ventas*0.9\n",
    "ventas_df[\"ahorro\"] =  ventas_df.Ventas-ventas_df.descuentos\n",
    "\n",
    "print(ventas_df[0:])"
   ]
  },
  {
   "cell_type": "markdown",
   "metadata": {},
   "source": [
    "3. Escribir una función que reciba un diccionario con las notas de los alumno de un curso y devuelva una serie con la nota mínima, la máxima, media y la desviación típica"
   ]
  },
  {
   "cell_type": "code",
   "execution_count": 5,
   "metadata": {},
   "outputs": [
    {
     "ename": "NameError",
     "evalue": "name 'pd' is not defined",
     "output_type": "error",
     "traceback": [
      "\u001b[31m---------------------------------------------------------------------------\u001b[39m",
      "\u001b[31mNameError\u001b[39m                                 Traceback (most recent call last)",
      "\u001b[36mCell\u001b[39m\u001b[36m \u001b[39m\u001b[32mIn[5]\u001b[39m\u001b[32m, line 9\u001b[39m\n\u001b[32m      5\u001b[39m      estadisticas = pd.Series([notas.min(), notas.max(), notas.mean(), notas.std()], \n\u001b[32m      6\u001b[39m                               index=[\u001b[33m\"\u001b[39m\u001b[33mMinimo\u001b[39m\u001b[33m\"\u001b[39m, \u001b[33m\"\u001b[39m\u001b[33mMaximo\u001b[39m\u001b[33m\"\u001b[39m, \u001b[33m\"\u001b[39m\u001b[33mMedia \u001b[39m\u001b[33m\"\u001b[39m, \u001b[33m\"\u001b[39m\u001b[33mDesviación estandar\u001b[39m\u001b[33m\"\u001b[39m])\n\u001b[32m      7\u001b[39m      \u001b[38;5;28;01mreturn\u001b[39;00m estadisticas\n\u001b[32m----> \u001b[39m\u001b[32m9\u001b[39m \u001b[38;5;28mprint\u001b[39m(registro_notas(juian=\u001b[32m10\u001b[39m, pedro=\u001b[32m9\u001b[39m, maria=\u001b[32m9.7\u001b[39m))\n\u001b[32m     11\u001b[39m data={\n\u001b[32m     12\u001b[39m     \u001b[33m\"\u001b[39m\u001b[33mMaria\u001b[39m\u001b[33m\"\u001b[39m: \u001b[32m10\u001b[39m,\n\u001b[32m     13\u001b[39m     \u001b[33m\"\u001b[39m\u001b[33mPablo\u001b[39m\u001b[33m\"\u001b[39m: \u001b[32m9\u001b[39m,\n\u001b[32m     14\u001b[39m     \u001b[33m\"\u001b[39m\u001b[33mAndres\u001b[39m\u001b[33m\"\u001b[39m:\u001b[32m6.5\u001b[39m   \n\u001b[32m     15\u001b[39m }\n\u001b[32m     17\u001b[39m \u001b[38;5;28mprint\u001b[39m(\u001b[33m\"\u001b[39m\u001b[38;5;130;01m\\n\u001b[39;00m\u001b[38;5;130;01m\\n\u001b[39;00m\u001b[33m-------\u001b[39m\u001b[38;5;130;01m\\n\u001b[39;00m\u001b[33m\"\u001b[39m, registro_notas(**data))\n",
      "\u001b[36mCell\u001b[39m\u001b[36m \u001b[39m\u001b[32mIn[5]\u001b[39m\u001b[32m, line 2\u001b[39m, in \u001b[36mregistro_notas\u001b[39m\u001b[34m(**notas)\u001b[39m\n\u001b[32m      1\u001b[39m \u001b[38;5;28;01mdef\u001b[39;00m\u001b[38;5;250m \u001b[39m\u001b[34mregistro_notas\u001b[39m (**notas):\n\u001b[32m----> \u001b[39m\u001b[32m2\u001b[39m      notas = pd.Series(notas)\n\u001b[32m      3\u001b[39m      \u001b[38;5;66;03m#print(notas)\u001b[39;00m\n\u001b[32m      5\u001b[39m      estadisticas = pd.Series([notas.min(), notas.max(), notas.mean(), notas.std()], \n\u001b[32m      6\u001b[39m                               index=[\u001b[33m\"\u001b[39m\u001b[33mMinimo\u001b[39m\u001b[33m\"\u001b[39m, \u001b[33m\"\u001b[39m\u001b[33mMaximo\u001b[39m\u001b[33m\"\u001b[39m, \u001b[33m\"\u001b[39m\u001b[33mMedia \u001b[39m\u001b[33m\"\u001b[39m, \u001b[33m\"\u001b[39m\u001b[33mDesviación estandar\u001b[39m\u001b[33m\"\u001b[39m])\n",
      "\u001b[31mNameError\u001b[39m: name 'pd' is not defined"
     ]
    }
   ],
   "source": [
    "def registro_notas (**notas):\n",
    "     notas = pd.Series(notas)\n",
    "     #print(notas)\n",
    "     \n",
    "     estadisticas = pd.Series([notas.min(), notas.max(), notas.mean(), notas.std()], \n",
    "                              index=[\"Minimo\", \"Maximo\", \"Media \", \"Desviación estandar\"])\n",
    "     return estadisticas\n",
    "     \n",
    "print(registro_notas(juian=10, pedro=9, maria=9.7))\n",
    "\n",
    "data={\n",
    "    \"Maria\": 10,\n",
    "    \"Pablo\": 9,\n",
    "    \"Andres\":6.5   \n",
    "}\n",
    "\n",
    "print(\"\\n\\n-------\\n\", registro_notas(**data))\n"
   ]
  },
  {
   "cell_type": "code",
   "execution_count": null,
   "metadata": {},
   "outputs": [],
   "source": []
  }
 ],
 "metadata": {
  "kernelspec": {
   "display_name": "Python 3 (ipykernel)",
   "language": "python",
   "name": "python3"
  },
  "language_info": {
   "codemirror_mode": {
    "name": "ipython",
    "version": 3
   },
   "file_extension": ".py",
   "mimetype": "text/x-python",
   "name": "python",
   "nbconvert_exporter": "python",
   "pygments_lexer": "ipython3",
   "version": "3.12.9"
  }
 },
 "nbformat": 4,
 "nbformat_minor": 4
}
