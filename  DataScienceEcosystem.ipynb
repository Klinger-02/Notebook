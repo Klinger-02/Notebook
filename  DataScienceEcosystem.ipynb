{
 "cells": [
  {
   "cell_type": "markdown",
   "id": "e909216f-b8fa-415d-8354-45112d90bd59",
   "metadata": {},
   "source": [
    "# Data Science Tools and Ecosystem"
   ]
  },
  {
   "cell_type": "markdown",
   "id": "79e0e81d-a066-436f-ada1-7884bfbbe1cd",
   "metadata": {},
   "source": [
    "Welcome to this notebook!\n",
    "Here, we provide a comprehensive overview of the essential tools, languages, and platforms that make up the Data Science ecosystem. "
   ]
  },
  {
   "cell_type": "markdown",
   "id": "c92a78a4-1ed2-4871-8feb-6d368db713ad",
   "metadata": {},
   "source": [
    "**Objectives:**\n",
    "\n",
    "- Understand key languages used in Data Science such as Python, R, and SQL.  \n",
    "- Identify commonly used libraries and tools in the Data Science ecosystem.  \n",
    "- Learn how to write and evaluate arithmetic expressions in Python.  \n",
    "- Get familiar with Markdown formatting for documentation in Jupyter Notebooks.  \n",
    "- Practice converting units (e.g., minutes to hours) using Python code."
   ]
  },
  {
   "cell_type": "markdown",
   "id": "f1b2b746-79bd-4899-b937-945fc7e40935",
   "metadata": {},
   "source": [
    "Some of the popular languages that Data Scientists use are:\n",
    "\n",
    "1. Python – Widely used for data analysis, machine learning, and deep learning due to its rich ecosystem of libraries like Pandas, NumPy, Scikit-learn, and TensorFlow.\n",
    "\n",
    "2. R – Preferred for statistical analysis and data visualization, especially in academic and research settings.\n",
    "\n",
    "3. SQL – Essential for querying and managing data in relational databases.\n",
    "\n",
    "4. Java – Sometimes used in big data frameworks like Hadoop and Spark.\n",
    "\n",
    "5. Julia – Gaining popularity for high-performance numerical computing.\n",
    "\n",
    "6. Scala – Often used with Apache Spark for big data processing."
   ]
  },
  {
   "cell_type": "markdown",
   "id": "d4c7cd4d-0970-47f8-999d-837fc19ade89",
   "metadata": {},
   "source": [
    "Some of the commonly used libraries used by Data Scientists include:\n",
    "\n",
    "1. Pandas – For data manipulation and analysis using dataframes.\n",
    "\n",
    "2. NumPy – Provides support for numerical operations and multi-dimensional arrays.\n",
    "\n",
    "3. Matplotlib – A foundational library for creating static, animated, and interactive visualizations.\n",
    "\n",
    "4. Seaborn – Built on top of Matplotlib, it offers enhanced data visualization capabilities with attractive default styles.\n",
    "\n",
    "5. Scikit-learn – A powerful library for machine learning, including classification, regression, and clustering.\n",
    "\n",
    "6. TensorFlow – An open-source framework developed by Google for deep learning and neural networks.\n",
    "\n",
    "7. Keras – A high-level neural networks API, running on top of TensorFlow.\n",
    "\n",
    "8. PyTorch – A flexible and widely adopted deep learning library developed by Facebook.\n",
    "\n",
    "9. Statsmodels – For statistical modeling and hypothesis testing."
   ]
  },
  {
   "cell_type": "markdown",
   "id": "90ff1289-20a7-4f31-82e9-beeb79cdaa60",
   "metadata": {},
   "source": [
    "| Data Science Tools  |\n",
    "|---------------------|\n",
    "| Jupyer Notebook     |\n",
    "| Rstudio             |\n",
    "| Vs code             |"
   ]
  },
  {
   "cell_type": "markdown",
   "id": "22bf7b86-b168-462e-9790-796e7569cbf0",
   "metadata": {},
   "source": [
    "### Below are a few examples of evaluating arithmetic expressions in Python:\n",
    "\n",
    "- **Addition**:  \n",
    "  `3 + 5` \n",
    "\n",
    "- **Subtraction**:  \n",
    "  `10 - 4` \n",
    "\n",
    "- **Multiplication**:  \n",
    "  `6 * 7` \n",
    "\n",
    "- **Division**:  \n",
    "  `20 / 4` \n",
    "\n",
    "- **Exponentiation**:  \n",
    "  `2 ** 3` "
   ]
  },
  {
   "cell_type": "code",
   "execution_count": 6,
   "id": "b87e244f-da19-413f-8a77-74e137364114",
   "metadata": {},
   "outputs": [
    {
     "data": {
      "text/plain": [
       "17"
      ]
     },
     "execution_count": 6,
     "metadata": {},
     "output_type": "execute_result"
    }
   ],
   "source": [
    "#This is a simple arithmetic expression to later add integers:\n",
    "(3 * 4) + 5"
   ]
  },
  {
   "cell_type": "code",
   "execution_count": 7,
   "id": "5b7daabf-d32d-474c-9190-26734f970070",
   "metadata": {},
   "outputs": [
    {
     "data": {
      "text/plain": [
       "3.3333333333333335"
      ]
     },
     "execution_count": 7,
     "metadata": {},
     "output_type": "execute_result"
    }
   ],
   "source": [
    "#This expression converts a quantity of minutes to hours by dividing by 60:\n",
    "minutos = 200\n",
    "horas = minutos / 60\n",
    "horas"
   ]
  },
  {
   "cell_type": "markdown",
   "id": "dd667639-5381-4651-b9b6-a1b38793a698",
   "metadata": {},
   "source": [
    "## Author\n",
    "\n",
    "César Stick Quintero Klinger"
   ]
  },
  {
   "cell_type": "code",
   "execution_count": null,
   "id": "d01c8032-910d-43d2-b6c6-d2a5d283dbd0",
   "metadata": {},
   "outputs": [],
   "source": []
  }
 ],
 "metadata": {
  "kernelspec": {
   "display_name": "Python 3 (ipykernel)",
   "language": "python",
   "name": "python3"
  },
  "language_info": {
   "codemirror_mode": {
    "name": "ipython",
    "version": 3
   },
   "file_extension": ".py",
   "mimetype": "text/x-python",
   "name": "python",
   "nbconvert_exporter": "python",
   "pygments_lexer": "ipython3",
   "version": "3.12.9"
  }
 },
 "nbformat": 4,
 "nbformat_minor": 5
}
